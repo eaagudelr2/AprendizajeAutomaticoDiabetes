{
  "nbformat": 4,
  "nbformat_minor": 0,
  "metadata": {
    "colab": {
      "provenance": []
    },
    "kernelspec": {
      "name": "python3",
      "display_name": "Python 3"
    },
    "language_info": {
      "name": "python"
    }
  },
  "cells": [
    {
      "cell_type": "code",
      "source": [
        "#qda con medidas de desempeño\n",
        "\n",
        "import pandas as pd\n",
        "from sklearn.discriminant_analysis import QuadraticDiscriminantAnalysis\n",
        "from sklearn.model_selection import train_test_split\n",
        "from sklearn.metrics import accuracy_score, confusion_matrix, precision_score, recall_score, f1_score\n",
        "\n",
        "# Montar Google Drive si es necesario\n",
        "from google.colab import drive\n",
        "drive.mount('/content/drive')\n",
        "\n",
        "# Ruta del archivo de datos\n",
        "file_path = '/content/drive/MyDrive/modelosEntregable/diabetesMultivariable.csv'\n",
        "\n",
        "# Lectura de datos en Python\n",
        "data = pd.read_csv(file_path, header=0, sep=';', engine='python')\n",
        "\n",
        "# Variables de interés\n",
        "X = data[['EDAD', 'IMC', 'ARTRITIS', 'DESNUTRICION']]\n",
        "y = data['DIABETES']\n",
        "\n",
        "# División de los datos en conjuntos de entrenamiento y prueba\n",
        "X_train, X_test, y_train, y_test = train_test_split(X, y, test_size=0.2, random_state=42)\n",
        "\n",
        "# Creación de una instancia del modelo QDA\n",
        "qda = QuadraticDiscriminantAnalysis()\n",
        "\n",
        "# Entrenamiento del modelo\n",
        "qda.fit(X_train, y_train)\n",
        "\n",
        "# Predicciones en los datos de prueba\n",
        "y_pred = qda.predict(X_test)\n",
        "\n",
        "# Cálculo de la precisión\n",
        "accuracy = accuracy_score(y_test, y_pred)\n",
        "\n",
        "# Cálculo de la matriz de confusión\n",
        "confusion = confusion_matrix(y_test, y_pred)\n",
        "\n",
        "# Cálculo de la exhaustividad (recall)\n",
        "recall = recall_score(y_test, y_pred)\n",
        "\n",
        "# Cálculo de la puntuación F1\n",
        "f1 = f1_score(y_test, y_pred)\n",
        "\n",
        "# Cálculo de la precisión\n",
        "precision = precision_score(y_test, y_pred)\n",
        "\n",
        "# Imprimir los resultados\n",
        "print(\"Exactitud del modelo QDA:\", accuracy)\n",
        "print(\"Matriz de confusión del modelo QDA:\")\n",
        "print(confusion)\n",
        "print(\"Exhaustividad (Recall) del modelo QDA:\", recall)\n",
        "print(\"Puntuación F1 del modelo QDA:\", f1)\n",
        "print(\"Precisión del modelo QDA:\", precision)\n",
        "\n"
      ],
      "metadata": {
        "colab": {
          "base_uri": "https://localhost:8080/"
        },
        "id": "b3xy5Nzwpu6C",
        "outputId": "a9ca8467-0351-4c74-950a-a94972cd15d3"
      },
      "execution_count": 17,
      "outputs": [
        {
          "output_type": "stream",
          "name": "stdout",
          "text": [
            "Drive already mounted at /content/drive; to attempt to forcibly remount, call drive.mount(\"/content/drive\", force_remount=True).\n",
            "Exactitud del modelo QDA: 0.86\n",
            "Matriz de confusión del modelo QDA:\n",
            "[[3404   79]\n",
            " [ 481   36]]\n",
            "Exhaustividad (Recall) del modelo QDA: 0.06963249516441006\n",
            "Puntuación F1 del modelo QDA: 0.11392405063291139\n",
            "Precisión del modelo QDA: 0.3130434782608696\n"
          ]
        }
      ]
    },
    {
      "cell_type": "code",
      "source": [
        "#ventanas de parzen con medidas de desempeño\n",
        "import pandas as pd\n",
        "import numpy as np\n",
        "import matplotlib.pyplot as plt\n",
        "import seaborn as sns\n",
        "from sklearn.model_selection import train_test_split\n",
        "from sklearn.metrics import accuracy_score, precision_score, recall_score, f1_score, confusion_matrix\n",
        "from sklearn.neighbors import KernelDensity\n",
        "\n",
        "# Definir la función de kernel (en este caso, utilizaremos el kernel Gaussiano)\n",
        "def gaussian_kernel(x, sigma):\n",
        "    return np.exp(-0.5 * (x / sigma)**2) / (np.sqrt(2 * np.pi) * sigma)\n",
        "\n",
        "# Definir la función de Ventana de Parzen\n",
        "def parzen_window(X_train, y_train, X_test, h, kernel):\n",
        "    n_train = X_train.shape[0]\n",
        "    n_test = X_test.shape[0]\n",
        "    n_classes = len(np.unique(y_train))\n",
        "    y_pred = np.zeros(n_test)\n",
        "\n",
        "    for i in range(n_test):\n",
        "        class_probs = np.zeros(n_classes)\n",
        "        for j in range(n_train):\n",
        "            dist = np.linalg.norm(X_test[i] - X_train[j]) / h\n",
        "            weight = kernel(dist)\n",
        "            class_probs[int(y_train[j])] += weight\n",
        "\n",
        "        y_pred[i] = np.argmax(class_probs)\n",
        "\n",
        "    return y_pred\n",
        "\n",
        "# Lectura de datos en Python\n",
        "data = pd.read_csv('/content/drive/MyDrive/modelosEntregable/diabetesMultivariable.csv', header=0, sep=';', engine='python')\n",
        "\n",
        "# Variables de interés\n",
        "X = data[['EDAD', 'IMC', 'ARTRITIS','DESNUTRICION']]\n",
        "y = data['DIABETES']\n",
        "\n",
        "# División de los datos en conjuntos de entrenamiento y prueba\n",
        "X_train, X_test, y_train, y_test = train_test_split(X, y, test_size=0.2, random_state=42)\n",
        "\n",
        "# Definir el ancho de banda (ventana) y la función de kernel (por ejemplo, kernel Gaussiano)\n",
        "h = 0.5\n",
        "kernel = lambda x: gaussian_kernel(x, sigma=1.0)\n",
        "\n",
        "# Aplicar Ventana de Parzen en los datos de prueba\n",
        "y_pred = parzen_window(X_train.values, y_train.values, X_test.values, h, kernel)\n",
        "\n",
        "# Evaluar las medidas de desempeño\n",
        "accuracy = accuracy_score(y_test.values, y_pred)\n",
        "precision = precision_score(y_test.values, y_pred, average='weighted')\n",
        "recall = recall_score(y_test.values, y_pred, average='weighted')\n",
        "f1 = f1_score(y_test.values, y_pred, average='weighted')\n",
        "\n",
        "# Obtener la matriz de confusión\n",
        "confusion = confusion_matrix(y_test.values, y_pred)\n",
        "\n",
        "# Impresión de las medidas de desempeño\n",
        "print(\"Medidas de desempeño:\")\n",
        "print(\"----------------------------\")\n",
        "print(f\"Precisión: {precision:.4f}\")\n",
        "print(f\"Exactitud: {accuracy:.4f}\")\n",
        "print(f\"Exhaustividad (Recall): {recall:.4f}\")\n",
        "print(f\"Puntuación F1: {f1:.4f}\")\n",
        "\n",
        "# Impresión de la matriz de confusión\n",
        "print(\"\\nMatriz de confusión:\")\n",
        "print(\"------------------------\")\n",
        "print(confusion)\n",
        "\n",
        "# Visualización de la matriz de confusión\n",
        "plt.figure(figsize=(6, 6))\n",
        "sns.heatmap(confusion, annot=True, fmt=\"d\", cmap=\"Blues\", cbar=False)\n",
        "plt.xlabel(\"Etiqueta Predicha\")\n",
        "plt.ylabel(\"Etiqueta Real\")\n",
        "plt.title(\"Matriz de Confusión\")\n",
        "plt.show()\n",
        "\n"
      ],
      "metadata": {
        "colab": {
          "base_uri": "https://localhost:8080/",
          "height": 759
        },
        "id": "FkzkwaYjwipg",
        "outputId": "1924af23-5295-402f-83e0-73d8c31fd156"
      },
      "execution_count": 18,
      "outputs": [
        {
          "output_type": "stream",
          "name": "stdout",
          "text": [
            "Medidas de desempeño:\n",
            "----------------------------\n",
            "Precisión: 0.9150\n",
            "Exactitud: 0.9150\n",
            "Exhaustividad (Recall): 0.9150\n",
            "Puntuación F1: 0.8991\n",
            "\n",
            "Matriz de confusión:\n",
            "------------------------\n",
            "[[3465   18]\n",
            " [ 322  195]]\n"
          ]
        },
        {
          "output_type": "display_data",
          "data": {
            "text/plain": [
              "<Figure size 600x600 with 1 Axes>"
            ],
            "image/png": "[encoded data removed]"
          },
          "metadata": {}
        }
      ]
    },
    {
      "cell_type": "code",
      "source": [
        "#correlaccion\n",
        "\n",
        "import pandas as pd\n",
        "\n",
        "from google.colab import drive\n",
        "\n",
        "# lectura de datos en Python\n",
        "data = pd.read_csv(file_path, header=0, sep=';', engine='python')\n",
        "\n",
        "# Lectura de datos en Python\n",
        "data = pd.read_csv('/content/drive/MyDrive/modelosEntregable/diabetesMultivariable.csv', header=0, sep=';', engine='python')\n",
        "\n",
        "# Convertir valores 1 y 0 a booleanos\n",
        "target = data['DIABETES'].astype(bool)\n",
        "\n",
        "# Calcular la matriz de correlación con la variable objetivo convertida\n",
        "correlation_matrix = data[['EDAD', 'IMC', 'ARTRITIS', 'DESNUTRICION']].corrwith(target)\n",
        "\n",
        "# Obtener los valores absolutos de la correlación\n",
        "correlation_with_target = correlation_matrix.abs()\n",
        "\n",
        "# Obtener el índice de Fisher\n",
        "fisher_index = (correlation_with_target**2) / (1 - correlation_with_target**2)\n",
        "\n",
        "# Imprimir los resultados\n",
        "print(\"Correlación con la variable objetivo:\")\n",
        "print(correlation_with_target)\n",
        "print(\"\\nÍndice de Fisher:\")\n",
        "print(fisher_index)\n",
        "\n"
      ],
      "metadata": {
        "colab": {
          "base_uri": "https://localhost:8080/"
        },
        "id": "tb87k0vmZWqI",
        "outputId": "a2de5276-6461-4727-d225-88312f238443"
      },
      "execution_count": null,
      "outputs": [
        {
          "output_type": "stream",
          "name": "stdout",
          "text": [
            "Correlación con la variable objetivo:\n",
            "EDAD            0.240311\n",
            "IMC             0.136171\n",
            "ARTRITIS        0.016012\n",
            "DESNUTRICION    0.051815\n",
            "dtype: float64\n",
            "\n",
            "Índice de Fisher:\n",
            "EDAD            0.061289\n",
            "IMC             0.018893\n",
            "ARTRITIS        0.000256\n",
            "DESNUTRICION    0.002692\n",
            "dtype: float64\n"
          ]
        }
      ]
    },
    {
      "cell_type": "code",
      "source": [
        "#busqueda secuencia ascendente\n",
        "import pandas as pd\n",
        "from sklearn.model_selection import train_test_split\n",
        "from sklearn.ensemble import GradientBoostingClassifier\n",
        "from sklearn.metrics import accuracy_score\n",
        "\n",
        "# Lectura de datos en Python\n",
        "data = pd.read_csv('/content/drive/MyDrive/modelosEntregable/diabetesMultivariable.csv', header=0, sep=';', engine='python')\n",
        "\n",
        "# Variables de interés\n",
        "X = data[['EDAD', 'IMC', 'ARTRITIS', 'DESNUTRICION']]\n",
        "y = data['DIABETES']\n",
        "\n",
        "# División de los datos en conjuntos de entrenamiento y prueba\n",
        "X_train, X_test, y_train, y_test = train_test_split(X, y, test_size=0.2, random_state=42)\n",
        "\n",
        "# Crear una lista con todas las características disponibles\n",
        "all_features = X.columns.tolist()\n",
        "\n",
        "# Crear una lista para almacenar las características seleccionadas\n",
        "selected_features = []\n",
        "\n",
        "# Crear una lista para almacenar los resultados de cada iteración\n",
        "results = []\n",
        "\n",
        "# Crear una instancia del modelo de Gradient Boosting Tree\n",
        "model = GradientBoostingClassifier()\n",
        "\n",
        "# Iterar sobre las características disponibles\n",
        "for i in range(len(all_features)):\n",
        "    best_accuracy = 0.0\n",
        "    best_feature = None\n",
        "    \n",
        "    # Iterar sobre las características restantes que aún no han sido seleccionadas\n",
        "    for feature in all_features:\n",
        "        # Agregar la característica al conjunto de características seleccionadas\n",
        "        current_features = selected_features + [feature]\n",
        "        \n",
        "        # Entrenar el modelo con las características seleccionadas\n",
        "        model.fit(X_train[current_features], y_train)\n",
        "        \n",
        "        # Realizar predicciones en los datos de prueba\n",
        "        y_pred = model.predict(X_test[current_features])\n",
        "        \n",
        "        # Calcular la precisión del modelo\n",
        "        accuracy = accuracy_score(y_test, y_pred)\n",
        "        \n",
        "        # Verificar si se ha encontrado una característica que mejore la precisión del modelo\n",
        "        if accuracy > best_accuracy:\n",
        "            best_accuracy = accuracy\n",
        "            best_feature = feature\n",
        "    \n",
        "    # Agregar la mejor característica al conjunto de características seleccionadas\n",
        "    selected_features.append(best_feature)\n",
        "    \n",
        "    # Almacenar los resultados de la iteración actual\n",
        "    results.append({'Selected Features': selected_features.copy(), 'Accuracy': best_accuracy})\n",
        "\n",
        "# Imprimir los resultados de la búsqueda secuencial ascendente\n",
        "print(\"Resultados de la búsqueda secuencial ascendente:\\n\")\n",
        "print(\"Características seleccionadas\\tPrecisión del modelo\")\n",
        "for result in results:\n",
        "    print(result['Selected Features'], \"\\t\\t\", result['Accuracy'])\n"
      ],
      "metadata": {
        "colab": {
          "base_uri": "https://localhost:8080/"
        },
        "id": "F1cY_PkohLPd",
        "outputId": "48beec13-f097-452f-bddc-72ce5196bc57"
      },
      "execution_count": null,
      "outputs": [
        {
          "output_type": "stream",
          "name": "stdout",
          "text": [
            "Resultados de la búsqueda secuencial ascendente:\n",
            "\n",
            "Características seleccionadas\tPrecisión del modelo\n",
            "['IMC'] \t\t 0.87675\n",
            "['IMC', 'EDAD'] \t\t 0.88275\n",
            "['IMC', 'EDAD', 'DESNUTRICION'] \t\t 0.88525\n",
            "['IMC', 'EDAD', 'DESNUTRICION', 'EDAD'] \t\t 0.88525\n"
          ]
        }
      ]
    },
    {
      "cell_type": "code",
      "source": [
        "#Extracción de características utilizando el método PCA (Análisis de Componentes Principales)\n",
        "import pandas as pd\n",
        "from sklearn.decomposition import PCA\n",
        "\n",
        "# Lectura de datos en Python\n",
        "data = pd.read_csv('/content/drive/MyDrive/modelosEntregable/diabetesMultivariable.csv', header=0, sep=';', engine='python')\n",
        "\n",
        "# Variables de interés\n",
        "X = data[['EDAD', 'IMC', 'ARTRITIS', 'DESNUTRICION']]\n",
        "\n",
        "# Normalización de los datos\n",
        "X_norm = (X - X.mean()) / X.std()\n",
        "\n",
        "# Creación de una instancia del modelo PCA\n",
        "pca = PCA()\n",
        "\n",
        "# Ajuste del modelo PCA a los datos normalizados\n",
        "pca.fit(X_norm)\n",
        "\n",
        "# Obtención de los componentes principales\n",
        "components = pca.components_\n",
        "\n",
        "# Obtención de las varianzas explicadas por cada componente principal\n",
        "explained_variances = pca.explained_variance_ratio_\n",
        "\n",
        "# Imprimir los resultados\n",
        "print(\"Componentes principales:\")\n",
        "print(components)\n",
        "print(\"\\nVarianzas explicadas:\")\n",
        "print(explained_variances)\n"
      ],
      "metadata": {
        "colab": {
          "base_uri": "https://localhost:8080/"
        },
        "id": "6SoP4JAdlDb5",
        "outputId": "de17ede9-9f19-4928-9aef-9edde5cdd961"
      },
      "execution_count": null,
      "outputs": [
        {
          "output_type": "stream",
          "name": "stdout",
          "text": [
            "Componentes principales:\n",
            "[[ 0.37662816  0.68806809  0.11939949 -0.60865203]\n",
            " [ 0.53421457 -0.11772158  0.76183511  0.34693471]\n",
            " [-0.68996273 -0.0378481   0.63513924 -0.34513344]\n",
            " [-0.31099428  0.71503249  0.04414942  0.62454938]]\n",
            "\n",
            "Varianzas explicadas:\n",
            "[0.3554409  0.25987011 0.23254596 0.15214303]\n"
          ]
        }
      ]
    },
    {
      "cell_type": "code",
      "source": [
        "#GradientBoostingClassifier \n",
        "import pandas as pd\n",
        "import numpy as np\n",
        "import matplotlib.pyplot as plt\n",
        "import seaborn as sns\n",
        "from sklearn.ensemble import GradientBoostingClassifier\n",
        "from sklearn.model_selection import train_test_split\n",
        "from sklearn.metrics import accuracy_score, precision_score, recall_score, f1_score, confusion_matrix\n",
        "\n",
        "# Lectura de datos en Python\n",
        "data = pd.read_csv('/content/drive/MyDrive/modelosEntregable/diabetesMultivariable.csv', header=0, sep=';', engine='python')\n",
        "\n",
        "# Variables de interés\n",
        "X = data[['EDAD', 'IMC', 'ARTRITIS', 'DESNUTRICION']]\n",
        "y = data['DIABETES']\n",
        "\n",
        "# División de los datos en conjuntos de entrenamiento y prueba\n",
        "X_train, X_test, y_train, y_test = train_test_split(X, y, test_size=0.2, random_state=42)\n",
        "\n",
        "# Creación de una instancia del modelo de Gradiente Boosting Tree\n",
        "gbt = GradientBoostingClassifier()\n",
        "\n",
        "# Entrenamiento del modelo\n",
        "gbt.fit(X_train, y_train)\n",
        "\n",
        "# Predicciones en los datos de prueba\n",
        "y_pred = gbt.predict(X_test)\n",
        "\n",
        "# Evaluación de las medidas de desempeño\n",
        "accuracy = accuracy_score(y_test, y_pred)\n",
        "precision = precision_score(y_test, y_pred, average='weighted')\n",
        "recall = recall_score(y_test, y_pred, average='weighted')\n",
        "f1 = f1_score(y_test, y_pred, average='weighted')\n",
        "\n",
        "# Obtención de la matriz de confusión\n",
        "confusion = confusion_matrix(y_test, y_pred)\n",
        "\n",
        "# Impresión de las medidas de desempeño\n",
        "print(\"Medidas de desempeño:\")\n",
        "print(\"----------------------------\")\n",
        "print(f\"Precisión: {precision:.4f}\")\n",
        "print(f\"Exactitud: {accuracy:.4f}\")\n",
        "print(f\"Exhaustividad (Recall): {recall:.4f}\")\n",
        "print(f\"Puntuación F1: {f1:.4f}\")\n",
        "\n",
        "# Impresión de la matriz de confusión\n",
        "print(\"\\nMatriz de confusión:\")\n",
        "print(\"------------------------\")\n",
        "print(confusion)\n",
        "\n",
        "# Visualización de la matriz de confusión\n",
        "plt.figure(figsize=(6, 6))\n",
        "sns.heatmap(confusion, annot=True, fmt=\"d\", cmap=\"Blues\", cbar=False)\n",
        "plt.xlabel(\"Etiqueta Predicha\")\n",
        "plt.ylabel(\"Etiqueta Real\")\n",
        "plt.title(\"Matriz de Confusión\")\n",
        "plt.show()\n",
        "\n"
      ],
      "metadata": {
        "colab": {
          "base_uri": "https://localhost:8080/",
          "height": 759
        },
        "id": "wR2wJv_6xBVv",
        "outputId": "0afb470b-79a4-4af1-ea1f-491f79da7c17"
      },
      "execution_count": 19,
      "outputs": [
        {
          "output_type": "stream",
          "name": "stdout",
          "text": [
            "Medidas de desempeño:\n",
            "----------------------------\n",
            "Precisión: 0.8897\n",
            "Exactitud: 0.8825\n",
            "Exhaustividad (Recall): 0.8825\n",
            "Puntuación F1: 0.8383\n",
            "\n",
            "Matriz de confusión:\n",
            "------------------------\n",
            "[[3480    3]\n",
            " [ 467   50]]\n"
          ]
        },
        {
          "output_type": "display_data",
          "data": {
            "text/plain": [
              "<Figure size 600x600 with 1 Axes>"
            ],
            "image/png": "[encoded data removed]"
          },
          "metadata": {}
        }
      ]
    },
    {
      "cell_type": "code",
      "source": [
        "#redes neuronales\n",
        "import pandas as pd\n",
        "import numpy as np\n",
        "import matplotlib.pyplot as plt\n",
        "import seaborn as sns\n",
        "from sklearn.model_selection import train_test_split\n",
        "from sklearn.neural_network import MLPClassifier\n",
        "from sklearn.metrics import accuracy_score, precision_score, recall_score, f1_score, confusion_matrix\n",
        "\n",
        "# Lectura de datos en Python\n",
        "data = pd.read_csv('/content/drive/MyDrive/modelosEntregable/diabetesMultivariable.csv', header=0, sep=';', engine='python')\n",
        "\n",
        "# Variables de interés\n",
        "X = data[['EDAD', 'IMC', 'ARTRITIS', 'DESNUTRICION']]\n",
        "y = data['DIABETES']\n",
        "\n",
        "# División de los datos en conjuntos de entrenamiento y prueba\n",
        "X_train, X_test, y_train, y_test = train_test_split(X, y, test_size=0.2, random_state=42)\n",
        "\n",
        "# Creación de una instancia del modelo de Red Neuronal Artificial\n",
        "mlp = MLPClassifier(hidden_layer_sizes=(100,), activation='relu', solver='adam', random_state=42)\n",
        "\n",
        "# Entrenamiento del modelo\n",
        "mlp.fit(X_train, y_train)\n",
        "\n",
        "# Predicciones en los datos de prueba\n",
        "y_pred = mlp.predict(X_test)\n",
        "\n",
        "# Evaluación de las medidas de desempeño\n",
        "accuracy = accuracy_score(y_test, y_pred)\n",
        "precision = precision_score(y_test, y_pred, average='weighted')\n",
        "recall = recall_score(y_test, y_pred, average='weighted')\n",
        "f1 = f1_score(y_test, y_pred, average='weighted')\n",
        "\n",
        "# Obtención de la matriz de confusión\n",
        "confusion = confusion_matrix(y_test, y_pred)\n",
        "\n",
        "# Impresión de las medidas de desempeño\n",
        "print(\"Medidas de desempeño:\")\n",
        "print(\"----------------------------\")\n",
        "print(f\"Precisión: {precision:.4f}\")\n",
        "print(f\"Exhaustividad (Recall): {recall:.4f}\")\n",
        "print(f\"Puntuación F1: {f1:.4f}\")\n",
        "print(f\"Exactitud (Accuracy): {accuracy:.4f}\")\n",
        "\n",
        "# Impresión de la matriz de confusión\n",
        "print(\"\\nMatriz de confusión:\")\n",
        "print(\"------------------------\")\n",
        "print(confusion)\n",
        "\n",
        "# Visualización de la matriz de confusión\n",
        "plt.figure(figsize=(6, 6))\n",
        "sns.heatmap(confusion, annot=True, fmt=\"d\", cmap=\"Blues\", cbar=False)\n",
        "plt.xlabel(\"Etiqueta Predicha\")\n",
        "plt.ylabel(\"Etiqueta Real\")\n",
        "plt.title(\"Matriz de Confusión\")\n",
        "plt.show()\n",
        "\n"
      ],
      "metadata": {
        "colab": {
          "base_uri": "https://localhost:8080/",
          "height": 759
        },
        "id": "gjB-bGUIxn2M",
        "outputId": "554fe5ed-de54-418c-8b1d-9dbfca5a1778"
      },
      "execution_count": 8,
      "outputs": [
        {
          "output_type": "stream",
          "name": "stdout",
          "text": [
            "Medidas de desempeño:\n",
            "----------------------------\n",
            "Precisión: 0.8514\n",
            "Exhaustividad (Recall): 0.8715\n",
            "Puntuación F1: 0.8133\n",
            "Exactitud (Accuracy): 0.8715\n",
            "\n",
            "Matriz de confusión:\n",
            "------------------------\n",
            "[[3481    2]\n",
            " [ 512    5]]\n"
          ]
        },
        {
          "output_type": "display_data",
          "data": {
            "text/plain": [
              "<Figure size 600x600 with 1 Axes>"
            ],
            "image/png": "[encoded data removed]"
          },
          "metadata": {}
        }
      ]
    },
    {
      "cell_type": "code",
      "source": [
        " #modelo de Máquinas de Soporte Vectorial con medidas de desempeño\n",
        "\n",
        "import pandas as pd\n",
        "import numpy as np\n",
        "import matplotlib.pyplot as plt\n",
        "import seaborn as sns\n",
        "from sklearn.model_selection import train_test_split\n",
        "from sklearn.svm import SVC\n",
        "from sklearn.metrics import accuracy_score, precision_score, recall_score, f1_score, confusion_matrix\n",
        "\n",
        "# Lectura de datos en Python\n",
        "data = pd.read_csv('/content/drive/MyDrive/modelosEntregable/diabetesMultivariable.csv', header=0, sep=';', engine='python')\n",
        "\n",
        "# Variables de interés\n",
        "X = data[['EDAD', 'IMC', 'ARTRITIS', 'DESNUTRICION']]\n",
        "y = data['DIABETES']\n",
        "\n",
        "# División de los datos en conjuntos de entrenamiento y prueba\n",
        "X_train, X_test, y_train, y_test = train_test_split(X, y, test_size=0.2, random_state=42)\n",
        "\n",
        "# Creación de una instancia del modelo de Máquinas de Soporte Vectorial\n",
        "svm = SVC(kernel='rbf', random_state=42)\n",
        "\n",
        "# Entrenamiento del modelo\n",
        "svm.fit(X_train, y_train)\n",
        "\n",
        "# Predicciones en los datos de prueba\n",
        "y_pred = svm.predict(X_test)\n",
        "\n",
        "# Evaluación de las medidas de desempeño\n",
        "accuracy = accuracy_score(y_test, y_pred)\n",
        "precision = precision_score(y_test, y_pred, average='weighted')\n",
        "recall = recall_score(y_test, y_pred, average='weighted')\n",
        "f1 = f1_score(y_test, y_pred, average='weighted')\n",
        "\n",
        "# Obtención de la matriz de confusión\n",
        "confusion = confusion_matrix(y_test, y_pred)\n",
        "\n",
        "# Impresión de las medidas de desempeño\n",
        "print(\"Medidas de desempeño:\")\n",
        "print(\"----------------------------\")\n",
        "print(f\"Precisión: {precision:.4f}\")\n",
        "print(f\"Exhaustividad (Recall): {recall:.4f}\")\n",
        "print(f\"Puntuación F1: {f1:.4f}\")\n",
        "print(f\"Exactitud (Accuracy): {accuracy:.4f}\")\n",
        "\n",
        "# Impresión de la matriz de confusión\n",
        "print(\"\\nMatriz de confusión:\")\n",
        "print(\"------------------------\")\n",
        "print(confusion)\n",
        "\n",
        "# Visualización de la matriz de confusión\n",
        "plt.figure(figsize=(6, 6))\n",
        "sns.heatmap(confusion, annot=True, fmt=\"d\", cmap=\"Blues\", cbar=False)\n",
        "plt.xlabel(\"Etiqueta Predicha\")\n",
        "plt.ylabel(\"Etiqueta Real\")\n",
        "plt.title(\"Matriz de Confusión\")\n",
        "plt.show()\n"
      ],
      "metadata": {
        "colab": {
          "base_uri": "https://localhost:8080/",
          "height": 814
        },
        "id": "M1buy_-uyQ0D",
        "outputId": "7346e37f-e3d3-41a4-a2ce-4d5f3d884b3d"
      },
      "execution_count": 10,
      "outputs": [
        {
          "output_type": "stream",
          "name": "stdout",
          "text": [
            "Medidas de desempeño:\n",
            "----------------------------\n",
            "Precisión: 0.7582\n",
            "Exhaustividad (Recall): 0.8708\n",
            "Puntuación F1: 0.8106\n",
            "Exactitud (Accuracy): 0.8708\n",
            "\n",
            "Matriz de confusión:\n",
            "------------------------\n",
            "[[3483    0]\n",
            " [ 517    0]]\n"
          ]
        },
        {
          "output_type": "stream",
          "name": "stderr",
          "text": [
            "/usr/local/lib/python3.10/dist-packages/sklearn/metrics/_classification.py:1344: UndefinedMetricWarning: Precision is ill-defined and being set to 0.0 in labels with no predicted samples. Use `zero_division` parameter to control this behavior.\n",
            "  _warn_prf(average, modifier, msg_start, len(result))\n"
          ]
        },
        {
          "output_type": "display_data",
          "data": {
            "text/plain": [
              "<Figure size 600x600 with 1 Axes>"
            ],
            "image/png": "[encoded data removed]"
          },
          "metadata": {}
        }
      ]
    }
  ]
}